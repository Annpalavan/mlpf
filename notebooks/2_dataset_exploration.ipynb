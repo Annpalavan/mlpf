{
 "cells": [
  {
   "cell_type": "code",
   "execution_count": null,
   "metadata": {
    "collapsed": true,
    "is_executing": true
   },
   "outputs": [],
   "source": [
    "import torch\n",
    "import sys\n",
    "import torch\n",
    "import os.path as osp\n",
    "import os\n",
    "import tqdm\n",
    "import sys\n",
    "import numpy as np\n",
    "from tqdm import tqdm\n",
    "\n",
    "sys.path.append(\"/eos/home-g/gkrzmanc/mlpf_local\")\n",
    "from src.dataset.dataset import SimpleIterDataset\n",
    "from src.utils.utils import to_filelist\n",
    "from torch.utils.data import DataLoader\n",
    "import dgl  # CPU only version for now\n"
   ]
  },
  {
   "cell_type": "code",
   "execution_count": 5,
   "outputs": [],
   "source": [
    "# This block is the same as 1_dataset\n",
    "\n",
    "dataset = \"/eos/home-g/gkrzmanc/ClicDet_v1/out.root\" # Full dataset, merged in 1 ROOT file (https://cernbox.cern.ch/s/TkMHJO5igBCixOs)\n",
    "\n",
    "\n",
    "class Args:\n",
    "    def __init__(self):\n",
    "        self.data_train = [dataset]\n",
    "        self.data_val = [dataset]\n",
    "        #self.data_train = files_train\n",
    "        self.data_config = '/eos/home-g/gkrzmanc/mlpf_local/config_files/config_2_newlinks.yaml'\n",
    "        self.extra_selection = None\n",
    "        self.train_val_split = 0.8\n",
    "        self.data_fraction = 1\n",
    "        self.file_fraction = 1\n",
    "        self.fetch_by_files = False\n",
    "        self.fetch_step = 0.01\n",
    "        self.steps_per_epoch = None\n",
    "        self.in_memory = False\n",
    "        self.local_rank = None\n",
    "        self.copy_inputs = False\n",
    "        self.no_remake_weights = False\n",
    "        self.batch_size = 10\n",
    "        self.num_workers = 0\n",
    "        self.demo = False\n",
    "        self.laplace = False\n",
    "        self.diffs = False\n",
    "        self.class_edges = False\n",
    "\n",
    "\n",
    "args = Args()\n",
    "train_range = (0, args.train_val_split)\n",
    "train_file_dict, train_files = to_filelist(args, 'train')\n",
    "train_data = SimpleIterDataset(train_file_dict, args.data_config, for_training=True,\n",
    "                               extra_selection=args.extra_selection,\n",
    "                               remake_weights=True,\n",
    "                               load_range_and_fraction=(train_range, args.data_fraction),\n",
    "                               file_fraction=args.file_fraction,\n",
    "                               fetch_by_files=args.fetch_by_files,\n",
    "                               fetch_step=args.fetch_step,\n",
    "                               infinity_mode=False,\n",
    "                               in_memory=args.in_memory,\n",
    "                               async_load=False,\n",
    "                               name='train')"
   ],
   "metadata": {
    "collapsed": false,
    "ExecuteTime": {
     "end_time": "2023-07-18T08:55:42.813072800Z",
     "start_time": "2023-07-18T08:55:42.530553900Z"
    }
   }
  },
  {
   "cell_type": "code",
   "execution_count": 6,
   "outputs": [
    {
     "name": "stdout",
     "output_type": "stream",
     "text": [
      "=== Restarting DataIter train, seed=None ===\n",
      "=== Restarting DataIter train, seed=None ===\n"
     ]
    },
    {
     "data": {
      "text/plain": "torch.Size([2, 5])"
     },
     "execution_count": 6,
     "metadata": {},
     "output_type": "execute_result"
    }
   ],
   "source": [
    "iterator = iter(train_data)\n",
    "g, gt = next(iterator)\n",
    "g\n",
    "g.ndata['particle_number'].unique()\n",
    "gt\n",
    "from src.dataset.functions_graph import graph_batch_func\n",
    "\n",
    "train_loader = DataLoader(train_data, batch_size=1, drop_last=True, pin_memory=True,\n",
    "                          num_workers=min(args.num_workers, int(len(train_files) * args.file_fraction)),\n",
    "                          collate_fn=graph_batch_func,\n",
    "                          persistent_workers=args.num_workers > 0 and args.steps_per_epoch is not None)\n",
    "iterator = iter(train_loader)\n",
    "g, y = next(iterator)\n",
    "y.shape\n"
   ],
   "metadata": {
    "collapsed": false,
    "ExecuteTime": {
     "end_time": "2023-07-18T08:55:52.572089900Z",
     "start_time": "2023-07-18T08:55:42.862358100Z"
    }
   }
  },
  {
   "cell_type": "code",
   "execution_count": 7,
   "outputs": [
    {
     "data": {
      "text/plain": "Graph(num_nodes=299, num_edges=2093,\n      ndata_schemes={'h': Scheme(shape=(8,), dtype=torch.float32), 'pos_hits': Scheme(shape=(3,), dtype=torch.float32), 'pos_hits_norm': Scheme(shape=(3,), dtype=torch.float32), 'hit_type': Scheme(shape=(4,), dtype=torch.int64), 'p_hits': Scheme(shape=(1,), dtype=torch.float32), 'e_hits': Scheme(shape=(1,), dtype=torch.float32), 'particle_number': Scheme(shape=(), dtype=torch.float32)}\n      edata_schemes={})"
     },
     "execution_count": 7,
     "metadata": {},
     "output_type": "execute_result"
    }
   ],
   "source": [
    "g"
   ],
   "metadata": {
    "collapsed": false,
    "ExecuteTime": {
     "end_time": "2023-07-18T08:55:52.579091100Z",
     "start_time": "2023-07-18T08:55:52.574102300Z"
    }
   }
  },
  {
   "cell_type": "code",
   "execution_count": 8,
   "outputs": [],
   "source": [
    "part_idx = g.ndata[\"particle_number\"]\n",
    "\n",
    "# if part_idx contains -1:\n",
    "#if torch.sum(part_idx==-1) > 0:\n",
    "#    true_idx = np.where(part_idx!=-1)[0]\n",
    "#    print(\"has -1\")#, part_idx, true_idx)\n",
    "#else:\n",
    "#    true_idx = np.arange(len(part_idx))\n",
    "#    part_idx -= 1\n",
    "true_idx = np.arange(len(part_idx))\n",
    "part_idx = part_idx[true_idx]\n",
    "hit_types = g.ndata[\"hit_type\"][true_idx]\n",
    "\n",
    "hit_idx = torch.where((hit_types[:, 2] == 1) | (hit_types[:, 3] == 1))[0]\n",
    "track_idx = torch.where((hit_types[:, 0] == 1) | (hit_types[:, 1] == 1))[0]\n",
    "hit_energies = g.ndata[\"e_hits\"].flatten()[true_idx]#[hit_idx]\n",
    "hit_momenta = g.ndata[\"p_hits\"].flatten()[true_idx]#[track_idx]\n",
    "#print(hit_energies.shape, hit_momenta.shape)\n",
    "#assert hit_momenta.shape[0] + hit_energies.shape[0] == hit_types.shape[0]"
   ],
   "metadata": {
    "collapsed": false,
    "ExecuteTime": {
     "end_time": "2023-07-18T08:55:52.588102400Z",
     "start_time": "2023-07-18T08:55:52.588102400Z"
    }
   }
  },
  {
   "cell_type": "code",
   "execution_count": 9,
   "outputs": [
    {
     "data": {
      "text/plain": "tensor([1., 1., 1., 1., 1., 1., 1., 1., 1., 1., 1., 1., 1., 1., 1., 1., 1., 1.,\n        1., 1., 1., 1., 1., 1., 1., 1., 1., 1., 1., 1., 1., 1., 1., 1., 1., 1.,\n        1., 1., 1., 1., 1., 1., 1., 1., 1., 1., 1., 1., 1., 1., 1., 1., 1., 1.,\n        1., 1., 1., 1., 1., 1., 1., 1., 1., 1., 1., 1., 1., 1., 1., 1., 1., 1.,\n        1., 1., 1., 1., 1., 1., 1., 1., 1., 1., 1., 1., 1., 1., 1., 1., 1., 1.,\n        1., 1., 1., 1., 1., 1., 1., 1., 1., 1., 1., 1., 1., 1., 1., 1., 1., 1.,\n        1., 1., 1., 1., 1., 1., 1., 1., 1., 1., 1., 1., 1., 1., 1., 1., 1., 1.,\n        1., 1., 1., 1., 1., 1., 1., 1., 1., 1., 1., 1., 1., 1., 1., 1., 1., 1.,\n        1., 1., 1., 1., 1., 1., 1., 1., 1., 1., 1., 1., 1., 1., 1., 1., 1., 1.,\n        1., 1., 1., 1., 1., 1., 1., 1., 1., 1., 1., 1., 1., 1., 1., 1., 1., 1.,\n        1., 1., 1., 1., 1., 1., 1., 1., 1., 1., 1., 1., 1., 1., 0., 0., 0., 0.,\n        0., 0., 0., 0., 0., 0., 0., 0., 0., 0., 0., 0., 0., 0., 0., 0., 0., 0.,\n        0., 0., 0., 0., 0., 0., 0., 0., 0., 0., 0., 0., 0., 0., 0., 0., 0., 0.,\n        0., 0., 0., 0., 0., 0., 0., 0., 0., 0., 0., 0., 0., 0., 0., 0., 0., 0.,\n        0., 0., 0., 0., 0., 0., 0., 0., 0., 0., 0., 0., 0., 0., 0., 0., 0., 0.,\n        0., 0., 0., 0., 0., 0., 0., 1., 1., 1., 1., 1., 1., 1., 1., 1., 1., 1.,\n        1., 1., 1., 1., 1., 1., 1., 1., 1., 1., 1.])"
     },
     "execution_count": 9,
     "metadata": {},
     "output_type": "execute_result"
    }
   ],
   "source": [
    "part_idx"
   ],
   "metadata": {
    "collapsed": false,
    "ExecuteTime": {
     "end_time": "2023-07-18T08:55:52.639361200Z",
     "start_time": "2023-07-18T08:55:52.592103200Z"
    }
   }
  },
  {
   "cell_type": "code",
   "execution_count": 10,
   "outputs": [],
   "source": [
    "from torch_scatter import scatter_sum"
   ],
   "metadata": {
    "collapsed": false,
    "ExecuteTime": {
     "end_time": "2023-07-18T08:55:52.666951400Z",
     "start_time": "2023-07-18T08:55:52.603703400Z"
    }
   }
  },
  {
   "cell_type": "code",
   "execution_count": 11,
   "outputs": [
    {
     "data": {
      "text/plain": "tensor([ 2.2272, 10.7947])"
     },
     "execution_count": 11,
     "metadata": {},
     "output_type": "execute_result"
    }
   ],
   "source": [
    "energy_from_showers = scatter_sum(hit_energies, part_idx.long(), dim=0)\n",
    "energy_from_showers"
   ],
   "metadata": {
    "collapsed": false,
    "ExecuteTime": {
     "end_time": "2023-07-18T08:55:52.667961800Z",
     "start_time": "2023-07-18T08:55:52.663962600Z"
    }
   }
  },
  {
   "cell_type": "code",
   "execution_count": 12,
   "outputs": [],
   "source": [
    "y_momentum = torch.sqrt(y[:, 0]**2 + y[:, 1]**2 + y[:, 2]**2)\n",
    "y_mass = y[:, 3]"
   ],
   "metadata": {
    "collapsed": false,
    "ExecuteTime": {
     "end_time": "2023-07-18T08:55:52.667961800Z",
     "start_time": "2023-07-18T08:55:52.664950Z"
    }
   }
  },
  {
   "cell_type": "code",
   "execution_count": 13,
   "outputs": [
    {
     "data": {
      "text/plain": "tensor([0.7194, 0.8945])"
     },
     "execution_count": 13,
     "metadata": {},
     "output_type": "execute_result"
    }
   ],
   "source": [
    "energy_from_showers / y_momentum"
   ],
   "metadata": {
    "collapsed": false,
    "ExecuteTime": {
     "end_time": "2023-07-18T08:55:52.667961800Z",
     "start_time": "2023-07-18T08:55:52.664950Z"
    }
   }
  },
  {
   "cell_type": "code",
   "execution_count": 14,
   "outputs": [],
   "source": [
    "#y_energy = torch.sqrt(y_momentum**2 + y_mass**2)\n",
    "#y_energy"
   ],
   "metadata": {
    "collapsed": false,
    "ExecuteTime": {
     "end_time": "2023-07-18T08:55:52.667961800Z",
     "start_time": "2023-07-18T08:55:52.664950Z"
    }
   }
  },
  {
   "cell_type": "code",
   "execution_count": 15,
   "outputs": [
    {
     "data": {
      "text/plain": "tensor([ 3.0959, 12.0685])"
     },
     "execution_count": 15,
     "metadata": {},
     "output_type": "execute_result"
    }
   ],
   "source": [
    "y_momentum"
   ],
   "metadata": {
    "collapsed": false,
    "ExecuteTime": {
     "end_time": "2023-07-18T08:55:52.667961800Z",
     "start_time": "2023-07-18T08:55:52.664950Z"
    }
   }
  },
  {
   "cell_type": "code",
   "execution_count": 16,
   "outputs": [
    {
     "data": {
      "text/plain": "tensor([])"
     },
     "execution_count": 16,
     "metadata": {},
     "output_type": "execute_result"
    }
   ],
   "source": [
    "g.ndata[\"p_hits\"].flatten()[g.ndata[\"hit_type\"][:, 1] == 1]\n",
    "\n",
    "# hit_types 2 and 3 have energies\n",
    "# hit_types 0 and 1 have momenta"
   ],
   "metadata": {
    "collapsed": false,
    "ExecuteTime": {
     "end_time": "2023-07-18T08:55:52.667961800Z",
     "start_time": "2023-07-18T08:55:52.664950Z"
    }
   }
  },
  {
   "cell_type": "code",
   "execution_count": 17,
   "outputs": [
    {
     "data": {
      "text/plain": "tensor([[0, 0, 1, 0],\n        [0, 0, 1, 0],\n        [0, 0, 1, 0],\n        ...,\n        [0, 0, 0, 1],\n        [0, 0, 0, 1],\n        [0, 0, 0, 1]])"
     },
     "execution_count": 17,
     "metadata": {},
     "output_type": "execute_result"
    }
   ],
   "source": [
    "g.ndata[\"hit_type\"]"
   ],
   "metadata": {
    "collapsed": false,
    "ExecuteTime": {
     "end_time": "2023-07-18T08:55:52.751123400Z",
     "start_time": "2023-07-18T08:55:52.684953400Z"
    }
   }
  },
  {
   "cell_type": "code",
   "execution_count": 38,
   "outputs": [],
   "source": [
    "from torch_scatter import scatter_sum\n",
    "def get_ratios(g, y, corr_w_mass=False, return_pid_dict=False):\n",
    "    part_idx = g.ndata[\"particle_number\"]\n",
    "    true_idx = np.arange(len(part_idx))\n",
    "    part_idx = part_idx[true_idx]\n",
    "    hit_types = g.ndata[\"hit_type\"][true_idx]\n",
    "    hit_idx = torch.where((hit_types[:, 2] == 1) | (hit_types[:, 3] == 1))[0]\n",
    "    track_idx = torch.where((hit_types[:, 0] == 1) | (hit_types[:, 1] == 1))[0]\n",
    "    hit_energies = g.ndata[\"e_hits\"].flatten()[true_idx]#[hit_idx]\n",
    "    hit_momenta = g.ndata[\"p_hits\"].flatten()[true_idx]#[track_idx]\n",
    "    #print(hit_energies.shape, hit_momenta.shape)\n",
    "    #assert hit_momenta.shape[0] + hit_energies.shape[0] == hit_types.shape[0]\n",
    "    energy_from_showers = scatter_sum(hit_energies, part_idx.long(), dim=0)\n",
    "    energy_from_showers\n",
    "    y_momentum = torch.sqrt(y[:, 0] ** 2 + y[:, 1] ** 2 + y[:, 2] ** 2)\n",
    "    y_mass = y[:, 3]\n",
    "    y_pid = y[:, 4].to(torch.long)\n",
    "\n",
    "    if return_pid_dict:\n",
    "        pids = y_pid.unique().long()\n",
    "        y_energy = torch.sqrt(y_momentum ** 2 + y_mass ** 2)\n",
    "        pid_dict = {int(pid): (energy_from_showers[y_pid == pid] / y_energy[y_pid == pid]).tolist() for pid in pids}\n",
    "        pid_dict[\"ALL\"] = (energy_from_showers / y_energy).tolist()\n",
    "        return pid_dict\n",
    "    if corr_w_mass:\n",
    "        y_energy = torch.sqrt(y_momentum ** 2 + y_mass ** 2)\n",
    "        return (energy_from_showers / y_energy).tolist()\n",
    "    return (energy_from_showers / y_momentum).tolist()\n",
    "\n"
   ],
   "metadata": {
    "collapsed": false,
    "ExecuteTime": {
     "end_time": "2023-07-18T09:23:00.940650Z",
     "start_time": "2023-07-18T09:23:00.762416900Z"
    }
   }
  },
  {
   "cell_type": "code",
   "execution_count": 19,
   "outputs": [
    {
     "name": "stderr",
     "output_type": "stream",
     "text": [
      "  2%|█▉                                                                               | 35/1500 [00:08<05:50,  4.18it/s]\n"
     ]
    },
    {
     "ename": "KeyboardInterrupt",
     "evalue": "",
     "output_type": "error",
     "traceback": [
      "\u001B[0;31m---------------------------------------------------------------------------\u001B[0m",
      "\u001B[0;31mKeyboardInterrupt\u001B[0m                         Traceback (most recent call last)",
      "Cell \u001B[0;32mIn[19], line 4\u001B[0m\n\u001B[1;32m      1\u001B[0m all_ratios \u001B[38;5;241m=\u001B[39m []\n\u001B[1;32m      3\u001B[0m \u001B[38;5;28;01mfor\u001B[39;00m i \u001B[38;5;129;01min\u001B[39;00m tqdm(\u001B[38;5;28mrange\u001B[39m(\u001B[38;5;241m1500\u001B[39m)):\n\u001B[0;32m----> 4\u001B[0m     g, y \u001B[38;5;241m=\u001B[39m \u001B[38;5;28;43mnext\u001B[39;49m\u001B[43m(\u001B[49m\u001B[43miterator\u001B[49m\u001B[43m)\u001B[49m\n\u001B[1;32m      5\u001B[0m     ratios \u001B[38;5;241m=\u001B[39m get_ratios(g, y)\n\u001B[1;32m      6\u001B[0m     all_ratios \u001B[38;5;241m+\u001B[39m\u001B[38;5;241m=\u001B[39m ratios\n",
      "File \u001B[0;32m~/env/lib/python3.10/site-packages/torch/utils/data/dataloader.py:633\u001B[0m, in \u001B[0;36m_BaseDataLoaderIter.__next__\u001B[0;34m(self)\u001B[0m\n\u001B[1;32m    630\u001B[0m \u001B[38;5;28;01mif\u001B[39;00m \u001B[38;5;28mself\u001B[39m\u001B[38;5;241m.\u001B[39m_sampler_iter \u001B[38;5;129;01mis\u001B[39;00m \u001B[38;5;28;01mNone\u001B[39;00m:\n\u001B[1;32m    631\u001B[0m     \u001B[38;5;66;03m# TODO(https://github.com/pytorch/pytorch/issues/76750)\u001B[39;00m\n\u001B[1;32m    632\u001B[0m     \u001B[38;5;28mself\u001B[39m\u001B[38;5;241m.\u001B[39m_reset()  \u001B[38;5;66;03m# type: ignore[call-arg]\u001B[39;00m\n\u001B[0;32m--> 633\u001B[0m data \u001B[38;5;241m=\u001B[39m \u001B[38;5;28;43mself\u001B[39;49m\u001B[38;5;241;43m.\u001B[39;49m\u001B[43m_next_data\u001B[49m\u001B[43m(\u001B[49m\u001B[43m)\u001B[49m\n\u001B[1;32m    634\u001B[0m \u001B[38;5;28mself\u001B[39m\u001B[38;5;241m.\u001B[39m_num_yielded \u001B[38;5;241m+\u001B[39m\u001B[38;5;241m=\u001B[39m \u001B[38;5;241m1\u001B[39m\n\u001B[1;32m    635\u001B[0m \u001B[38;5;28;01mif\u001B[39;00m \u001B[38;5;28mself\u001B[39m\u001B[38;5;241m.\u001B[39m_dataset_kind \u001B[38;5;241m==\u001B[39m _DatasetKind\u001B[38;5;241m.\u001B[39mIterable \u001B[38;5;129;01mand\u001B[39;00m \\\n\u001B[1;32m    636\u001B[0m         \u001B[38;5;28mself\u001B[39m\u001B[38;5;241m.\u001B[39m_IterableDataset_len_called \u001B[38;5;129;01mis\u001B[39;00m \u001B[38;5;129;01mnot\u001B[39;00m \u001B[38;5;28;01mNone\u001B[39;00m \u001B[38;5;129;01mand\u001B[39;00m \\\n\u001B[1;32m    637\u001B[0m         \u001B[38;5;28mself\u001B[39m\u001B[38;5;241m.\u001B[39m_num_yielded \u001B[38;5;241m>\u001B[39m \u001B[38;5;28mself\u001B[39m\u001B[38;5;241m.\u001B[39m_IterableDataset_len_called:\n",
      "File \u001B[0;32m~/env/lib/python3.10/site-packages/torch/utils/data/dataloader.py:677\u001B[0m, in \u001B[0;36m_SingleProcessDataLoaderIter._next_data\u001B[0;34m(self)\u001B[0m\n\u001B[1;32m    675\u001B[0m \u001B[38;5;28;01mdef\u001B[39;00m \u001B[38;5;21m_next_data\u001B[39m(\u001B[38;5;28mself\u001B[39m):\n\u001B[1;32m    676\u001B[0m     index \u001B[38;5;241m=\u001B[39m \u001B[38;5;28mself\u001B[39m\u001B[38;5;241m.\u001B[39m_next_index()  \u001B[38;5;66;03m# may raise StopIteration\u001B[39;00m\n\u001B[0;32m--> 677\u001B[0m     data \u001B[38;5;241m=\u001B[39m \u001B[38;5;28;43mself\u001B[39;49m\u001B[38;5;241;43m.\u001B[39;49m\u001B[43m_dataset_fetcher\u001B[49m\u001B[38;5;241;43m.\u001B[39;49m\u001B[43mfetch\u001B[49m\u001B[43m(\u001B[49m\u001B[43mindex\u001B[49m\u001B[43m)\u001B[49m  \u001B[38;5;66;03m# may raise StopIteration\u001B[39;00m\n\u001B[1;32m    678\u001B[0m     \u001B[38;5;28;01mif\u001B[39;00m \u001B[38;5;28mself\u001B[39m\u001B[38;5;241m.\u001B[39m_pin_memory:\n\u001B[1;32m    679\u001B[0m         data \u001B[38;5;241m=\u001B[39m _utils\u001B[38;5;241m.\u001B[39mpin_memory\u001B[38;5;241m.\u001B[39mpin_memory(data, \u001B[38;5;28mself\u001B[39m\u001B[38;5;241m.\u001B[39m_pin_memory_device)\n",
      "File \u001B[0;32m~/env/lib/python3.10/site-packages/torch/utils/data/_utils/fetch.py:32\u001B[0m, in \u001B[0;36m_IterableDatasetFetcher.fetch\u001B[0;34m(self, possibly_batched_index)\u001B[0m\n\u001B[1;32m     30\u001B[0m \u001B[38;5;28;01mfor\u001B[39;00m _ \u001B[38;5;129;01min\u001B[39;00m possibly_batched_index:\n\u001B[1;32m     31\u001B[0m     \u001B[38;5;28;01mtry\u001B[39;00m:\n\u001B[0;32m---> 32\u001B[0m         data\u001B[38;5;241m.\u001B[39mappend(\u001B[38;5;28;43mnext\u001B[39;49m\u001B[43m(\u001B[49m\u001B[38;5;28;43mself\u001B[39;49m\u001B[38;5;241;43m.\u001B[39;49m\u001B[43mdataset_iter\u001B[49m\u001B[43m)\u001B[49m)\n\u001B[1;32m     33\u001B[0m     \u001B[38;5;28;01mexcept\u001B[39;00m \u001B[38;5;167;01mStopIteration\u001B[39;00m:\n\u001B[1;32m     34\u001B[0m         \u001B[38;5;28mself\u001B[39m\u001B[38;5;241m.\u001B[39mended \u001B[38;5;241m=\u001B[39m \u001B[38;5;28;01mTrue\u001B[39;00m\n",
      "File \u001B[0;32m/eos/home-g/gkrzmanc/mlpf_local/src/dataset/dataset.py:225\u001B[0m, in \u001B[0;36m_SimpleIter.__next__\u001B[0;34m(self)\u001B[0m\n\u001B[1;32m    223\u001B[0m     i \u001B[38;5;241m=\u001B[39m \u001B[38;5;28mself\u001B[39m\u001B[38;5;241m.\u001B[39mindices[\u001B[38;5;28mself\u001B[39m\u001B[38;5;241m.\u001B[39mcursor]\n\u001B[1;32m    224\u001B[0m \u001B[38;5;28mself\u001B[39m\u001B[38;5;241m.\u001B[39mcursor \u001B[38;5;241m+\u001B[39m\u001B[38;5;241m=\u001B[39m \u001B[38;5;241m1\u001B[39m\n\u001B[0;32m--> 225\u001B[0m \u001B[38;5;28;01mreturn\u001B[39;00m \u001B[38;5;28;43mself\u001B[39;49m\u001B[38;5;241;43m.\u001B[39;49m\u001B[43mget_data\u001B[49m\u001B[43m(\u001B[49m\u001B[43mi\u001B[49m\u001B[43m)\u001B[49m\n",
      "File \u001B[0;32m/eos/home-g/gkrzmanc/mlpf_local/src/dataset/dataset.py:276\u001B[0m, in \u001B[0;36m_SimpleIter.get_data\u001B[0;34m(self, i)\u001B[0m\n\u001B[1;32m    272\u001B[0m \u001B[38;5;28;01mdef\u001B[39;00m \u001B[38;5;21mget_data\u001B[39m(\u001B[38;5;28mself\u001B[39m, i):\n\u001B[1;32m    273\u001B[0m     \u001B[38;5;66;03m# inputs\u001B[39;00m\n\u001B[1;32m    274\u001B[0m     X \u001B[38;5;241m=\u001B[39m {k: \u001B[38;5;28mself\u001B[39m\u001B[38;5;241m.\u001B[39mtable[\u001B[38;5;124m\"\u001B[39m\u001B[38;5;124m_\u001B[39m\u001B[38;5;124m\"\u001B[39m \u001B[38;5;241m+\u001B[39m k][i]\u001B[38;5;241m.\u001B[39mcopy() \u001B[38;5;28;01mfor\u001B[39;00m k \u001B[38;5;129;01min\u001B[39;00m \u001B[38;5;28mself\u001B[39m\u001B[38;5;241m.\u001B[39m_data_config\u001B[38;5;241m.\u001B[39minput_names}\n\u001B[0;32m--> 276\u001B[0m     g, features_partnn \u001B[38;5;241m=\u001B[39m \u001B[43mcreate_graph\u001B[49m\u001B[43m(\u001B[49m\u001B[43mX\u001B[49m\u001B[43m)\u001B[49m\n\u001B[1;32m    277\u001B[0m     \u001B[38;5;28;01mreturn\u001B[39;00m g, features_partnn\n",
      "File \u001B[0;32m/eos/home-g/gkrzmanc/mlpf_local/src/dataset/functions_graph.py:98\u001B[0m, in \u001B[0;36mcreate_graph\u001B[0;34m(output)\u001B[0m\n\u001B[1;32m     80\u001B[0m (\n\u001B[1;32m     81\u001B[0m     number_hits,\n\u001B[1;32m     82\u001B[0m     number_part,\n\u001B[0;32m   (...)\u001B[0m\n\u001B[1;32m     89\u001B[0m     hit_particle_link,\n\u001B[1;32m     90\u001B[0m ) \u001B[38;5;241m=\u001B[39m create_inputs_from_table(output)\n\u001B[1;32m     91\u001B[0m \u001B[38;5;66;03m# print(\"n hits:\", number_hits, \"number_part\", number_part)\u001B[39;00m\n\u001B[1;32m     92\u001B[0m \u001B[38;5;66;03m# this builds fully connected graph\u001B[39;00m\n\u001B[1;32m     93\u001B[0m \u001B[38;5;66;03m# TODO build graph using the hit links (hit_particle_link) which assigns to each node the particle it belongs to\u001B[39;00m\n\u001B[0;32m   (...)\u001B[0m\n\u001B[1;32m     96\u001B[0m \u001B[38;5;66;03m# g = dgl.to_simple(g)\u001B[39;00m\n\u001B[1;32m     97\u001B[0m \u001B[38;5;66;03m# g = dgl.to_bidirected(g)\u001B[39;00m\n\u001B[0;32m---> 98\u001B[0m g \u001B[38;5;241m=\u001B[39m \u001B[43mdgl\u001B[49m\u001B[38;5;241;43m.\u001B[39;49m\u001B[43mknn_graph\u001B[49m\u001B[43m(\u001B[49m\u001B[43mcoord_cart_hits\u001B[49m\u001B[43m,\u001B[49m\u001B[43m \u001B[49m\u001B[38;5;241;43m7\u001B[39;49m\u001B[43m,\u001B[49m\u001B[43m \u001B[49m\u001B[43mexclude_self\u001B[49m\u001B[38;5;241;43m=\u001B[39;49m\u001B[38;5;28;43;01mTrue\u001B[39;49;00m\u001B[43m)\u001B[49m\n\u001B[1;32m     99\u001B[0m hit_features_graph \u001B[38;5;241m=\u001B[39m torch\u001B[38;5;241m.\u001B[39mcat(\n\u001B[1;32m    100\u001B[0m     (coord_cart_hits_norm, hit_type_one_hot, e_hits), dim\u001B[38;5;241m=\u001B[39m\u001B[38;5;241m1\u001B[39m\n\u001B[1;32m    101\u001B[0m )\n\u001B[1;32m    102\u001B[0m \u001B[38;5;66;03m#! currently we are not doing the pid or mass regression\u001B[39;00m\n",
      "File \u001B[0;32m~/env/lib/python3.10/site-packages/dgl/transforms/functional.py:238\u001B[0m, in \u001B[0;36mknn_graph\u001B[0;34m(x, k, algorithm, dist, exclude_self)\u001B[0m\n\u001B[1;32m    236\u001B[0m x_seg \u001B[38;5;241m=\u001B[39m x_size[\u001B[38;5;241m0\u001B[39m] \u001B[38;5;241m*\u001B[39m [x_size[\u001B[38;5;241m1\u001B[39m]] \u001B[38;5;28;01mif\u001B[39;00m d \u001B[38;5;241m==\u001B[39m \u001B[38;5;241m3\u001B[39m \u001B[38;5;28;01melse\u001B[39;00m [x_size[\u001B[38;5;241m0\u001B[39m]]\n\u001B[1;32m    237\u001B[0m \u001B[38;5;28;01mif\u001B[39;00m algorithm \u001B[38;5;241m==\u001B[39m \u001B[38;5;124m\"\u001B[39m\u001B[38;5;124mbruteforce-blas\u001B[39m\u001B[38;5;124m\"\u001B[39m:\n\u001B[0;32m--> 238\u001B[0m     result \u001B[38;5;241m=\u001B[39m \u001B[43m_knn_graph_blas\u001B[49m\u001B[43m(\u001B[49m\u001B[43mx\u001B[49m\u001B[43m,\u001B[49m\u001B[43m \u001B[49m\u001B[43mk\u001B[49m\u001B[43m,\u001B[49m\u001B[43m \u001B[49m\u001B[43mdist\u001B[49m\u001B[38;5;241;43m=\u001B[39;49m\u001B[43mdist\u001B[49m\u001B[43m)\u001B[49m\n\u001B[1;32m    239\u001B[0m \u001B[38;5;28;01melse\u001B[39;00m:\n\u001B[1;32m    240\u001B[0m     \u001B[38;5;28;01mif\u001B[39;00m d \u001B[38;5;241m==\u001B[39m \u001B[38;5;241m3\u001B[39m:\n",
      "File \u001B[0;32m~/env/lib/python3.10/site-packages/dgl/transforms/functional.py:321\u001B[0m, in \u001B[0;36m_knn_graph_blas\u001B[0;34m(x, k, dist)\u001B[0m\n\u001B[1;32m    318\u001B[0m     x \u001B[38;5;241m=\u001B[39m x \u001B[38;5;241m/\u001B[39m (l2_norm(x) \u001B[38;5;241m+\u001B[39m \u001B[38;5;241m1e-5\u001B[39m)\n\u001B[1;32m    320\u001B[0m ctx \u001B[38;5;241m=\u001B[39m F\u001B[38;5;241m.\u001B[39mcontext(x)\n\u001B[0;32m--> 321\u001B[0m dist \u001B[38;5;241m=\u001B[39m \u001B[43mpairwise_squared_distance\u001B[49m\u001B[43m(\u001B[49m\u001B[43mx\u001B[49m\u001B[43m)\u001B[49m\n\u001B[1;32m    322\u001B[0m k_indices \u001B[38;5;241m=\u001B[39m F\u001B[38;5;241m.\u001B[39mastype(F\u001B[38;5;241m.\u001B[39margtopk(dist, k, \u001B[38;5;241m2\u001B[39m, descending\u001B[38;5;241m=\u001B[39m\u001B[38;5;28;01mFalse\u001B[39;00m), F\u001B[38;5;241m.\u001B[39mint64)\n\u001B[1;32m    323\u001B[0m \u001B[38;5;66;03m# index offset for each sample\u001B[39;00m\n",
      "\u001B[0;31mKeyboardInterrupt\u001B[0m: "
     ]
    }
   ],
   "source": [
    "all_ratios = []\n",
    "\n",
    "for i in tqdm(range(1500)):\n",
    "    g, y = next(iterator)\n",
    "    ratios = get_ratios(g, y)\n",
    "    all_ratios += ratios\n"
   ],
   "metadata": {
    "collapsed": false,
    "ExecuteTime": {
     "end_time": "2023-07-18T08:56:01.677215900Z",
     "start_time": "2023-07-18T08:55:52.684953400Z"
    }
   }
  },
  {
   "cell_type": "code",
   "execution_count": null,
   "outputs": [],
   "source": [
    "all_ratios"
   ],
   "metadata": {
    "collapsed": false,
    "ExecuteTime": {
     "start_time": "2023-07-18T08:56:01.653440400Z"
    }
   }
  },
  {
   "cell_type": "code",
   "execution_count": 60,
   "outputs": [
    {
     "data": {
      "text/plain": "torch.Size([3, 5])"
     },
     "execution_count": 60,
     "metadata": {},
     "output_type": "execute_result"
    }
   ],
   "source": [
    "y.shape"
   ],
   "metadata": {
    "collapsed": false,
    "ExecuteTime": {
     "end_time": "2023-07-17T23:39:46.914172400Z",
     "start_time": "2023-07-17T23:39:46.895718400Z"
    }
   }
  },
  {
   "cell_type": "code",
   "execution_count": 65,
   "outputs": [
    {
     "data": {
      "text/plain": "<Figure size 640x480 with 1 Axes>",
      "image/png": "[encoded data removed]"
     },
     "metadata": {},
     "output_type": "display_data"
    }
   ],
   "source": [
    "import matplotlib.pyplot as plt\n",
    "plt.xlim(0, 2)\n",
    "plt.hist(all_ratios, bins=400)\n",
    "plt.ylabel(\"count\")\n",
    "plt.xlabel(\"E_{sum}/E_{true}\")\n",
    "plt.savefig(\"/eos/home-g/gkrzmanc/PF_reports/initial_histograms/energy_sum_vs_true.pdf\")"
   ],
   "metadata": {
    "collapsed": false,
    "ExecuteTime": {
     "end_time": "2023-07-17T23:40:36.373888400Z",
     "start_time": "2023-07-17T23:40:32.291363200Z"
    }
   }
  },
  {
   "cell_type": "code",
   "execution_count": 67,
   "outputs": [
    {
     "name": "stderr",
     "output_type": "stream",
     "text": [
      " 38%|██████████████████████████████                                                  | 564/1500 [02:21<03:42,  4.20it/s]/home/gkrzmanc/env/lib/python3.10/site-packages/dgl/transforms/functional.py:308: DGLWarning: 'k' should be less than or equal to the number of points in 'x'expect k <= 2, got k = 8, use k = 2\n",
      "  dgl_warning(\n",
      " 51%|████████████████████████████████████████▉                                       | 767/1500 [03:33<02:10,  5.61it/s]/home/gkrzmanc/env/lib/python3.10/site-packages/dgl/transforms/functional.py:308: DGLWarning: 'k' should be less than or equal to the number of points in 'x'expect k <= 5, got k = 8, use k = 5\n",
      "  dgl_warning(\n",
      " 70%|███████████████████████████████████████████████████████▌                       | 1055/1500 [04:39<01:17,  5.71it/s]/home/gkrzmanc/env/lib/python3.10/site-packages/dgl/transforms/functional.py:308: DGLWarning: 'k' should be less than or equal to the number of points in 'x'expect k <= 6, got k = 8, use k = 6\n",
      "  dgl_warning(\n",
      " 89%|██████████████████████████████████████████████████████████████████████▎        | 1334/1500 [05:55<00:28,  5.81it/s]/home/gkrzmanc/env/lib/python3.10/site-packages/dgl/transforms/functional.py:308: DGLWarning: 'k' should be less than or equal to the number of points in 'x'expect k <= 4, got k = 8, use k = 4\n",
      "  dgl_warning(\n",
      " 98%|█████████████████████████████████████████████████████████████████████████████▍ | 1471/1500 [06:21<00:06,  4.77it/s]"
     ]
    }
   ],
   "source": [
    "all_ratios = []\n",
    "\n",
    "for i in tqdm(range(1500)):\n",
    "    g, y = next(iterator)\n",
    "    ratios = get_ratios(g, y, corr_w_mass=True, return_pid_dict=True)\n",
    "    all_ratios += ratios\n"
   ],
   "metadata": {
    "collapsed": false,
    "ExecuteTime": {
     "end_time": "2023-07-17T23:49:00.825697Z",
     "start_time": "2023-07-17T23:42:32.728943100Z"
    }
   }
  },
  {
   "cell_type": "code",
   "execution_count": 69,
   "outputs": [],
   "source": [
    "import matplotlib.pyplot as plt\n",
    "plt.xlim(0, 2)\n",
    "plt.hist(all_ratios, bins=400)\n",
    "plt.ylabel(\"count\")\n",
    "plt.xlabel(\"E_{sum}/E_{true}\")\n",
    "plt.savefig(\"/eos/home-g/gkrzmanc/PF_reports/initial_histograms/energy_sum_vs_true_corrected_with_mass.pdf\")"
   ],
   "metadata": {
    "collapsed": false
   }
  },
  {
   "cell_type": "code",
   "execution_count": 50,
   "outputs": [
    {
     "name": "stderr",
     "output_type": "stream",
     "text": [
      "  2%|█▊                                                                               | 34/1500 [00:16<11:35,  2.11it/s]/home/gkrzmanc/env/lib/python3.10/site-packages/dgl/transforms/functional.py:308: DGLWarning: 'k' should be less than or equal to the number of points in 'x'expect k <= 6, got k = 8, use k = 6\n",
      "  dgl_warning(\n",
      " 14%|███████████▌                                                                    | 216/1500 [01:34<03:08,  6.82it/s]"
     ]
    }
   ],
   "source": [
    "#all_ratios = {}\n",
    "\n",
    "def upd_dict(d, small_dict):\n",
    "    for k in small_dict:\n",
    "        if k not in d:\n",
    "            d[k] = []\n",
    "        d[k] += small_dict[k]\n",
    "    return d\n",
    "\n",
    "for i in tqdm(range(1500)):\n",
    "    g, y = next(iterator)\n",
    "    ratios = get_ratios(g, y, corr_w_mass=True, return_pid_dict=True)\n",
    "    all_ratios = upd_dict(all_ratios, ratios)"
   ],
   "metadata": {
    "collapsed": false,
    "ExecuteTime": {
     "end_time": "2023-07-18T09:49:27.160185700Z",
     "start_time": "2023-07-18T09:41:26.945213200Z"
    }
   }
  },
  {
   "cell_type": "code",
   "execution_count": 52,
   "outputs": [],
   "source": [
    "import matplotlib.pyplot as plt\n",
    "all_ratios = {str(k): v for k, v in all_ratios.items()}\n",
    "keys = sorted(list(all_ratios.keys()))\n",
    "fig, ax = plt.subplots(len(keys), figsize=(5, 35))\n",
    "\n",
    "for i in range(len(keys)):\n",
    "    ax[i].hist(all_ratios[keys[i]], bins=400)\n",
    "    ax[i].set_xlim(0, 2)\n",
    "    ax[i].set_ylabel(\"count\")\n",
    "    ax[i].set_xlabel(r\"$E_{sum}/E_{true}$\")\n",
    "    ax[i].set_title(f\"{keys[i]}\")\n",
    "\n",
    "fig.tight_layout()\n",
    "fig.show()\n",
    "fig.savefig(\"/eos/home-g/gkrzmanc/PF_reports/initial_histograms/PID_filtered_energy_sum_vs_true.pdf\")\n"
   ],
   "metadata": {
    "collapsed": false
   }
  },
  {
   "cell_type": "code",
   "execution_count": 42,
   "outputs": [
    {
     "data": {
      "text/plain": "<Figure size 640x480 with 1 Axes>",
      "image/png": "[encoded data removed]"
     },
     "metadata": {},
     "output_type": "display_data"
    }
   ],
   "source": [
    "plt.hist(all_ratios[\"ALL\"], bins=400)\n",
    "plt.xlim(0, 2)\n",
    "plt.show()"
   ],
   "metadata": {
    "collapsed": false,
    "ExecuteTime": {
     "end_time": "2023-07-18T09:25:22.480713700Z",
     "start_time": "2023-07-18T09:25:20.524186500Z"
    }
   }
  },
  {
   "cell_type": "code",
   "execution_count": 46,
   "outputs": [
    {
     "data": {
      "text/plain": "[0.3875284492969513]"
     },
     "execution_count": 46,
     "metadata": {},
     "output_type": "execute_result"
    }
   ],
   "source": [
    "#all_ratios[\"-13\"]"
   ],
   "metadata": {
    "collapsed": false,
    "ExecuteTime": {
     "end_time": "2023-07-18T09:30:01.051816500Z",
     "start_time": "2023-07-18T09:30:01.040803600Z"
    }
   }
  },
  {
   "cell_type": "code",
   "execution_count": 53,
   "outputs": [],
   "source": [
    "import pickle\n",
    "pickle.dump(all_ratios, open(\"/eos/home-g/gkrzmanc/PF_reports/initial_histograms/PID_filtered_energy_sum_vs_true.pkl\", \"wb\"))"
   ],
   "metadata": {
    "collapsed": false
   }
  },
  {
   "cell_type": "code",
   "execution_count": null,
   "outputs": [],
   "source": [],
   "metadata": {
    "collapsed": false
   }
  },
  {
   "cell_type": "code",
   "execution_count": null,
   "outputs": [],
   "source": [],
   "metadata": {
    "collapsed": false
   }
  }
 ],
 "metadata": {
  "kernelspec": {
   "display_name": "Python 3",
   "language": "python",
   "name": "python3"
  },
  "language_info": {
   "codemirror_mode": {
    "name": "ipython",
    "version": 2
   },
   "file_extension": ".py",
   "mimetype": "text/x-python",
   "name": "python",
   "nbconvert_exporter": "python",
   "pygments_lexer": "ipython2",
   "version": "2.7.6"
  }
 },
 "nbformat": 4,
 "nbformat_minor": 0
}
