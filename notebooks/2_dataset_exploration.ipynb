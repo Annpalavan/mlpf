{
 "cells": [
  {
   "cell_type": "code",
   "execution_count": 1,
   "metadata": {
    "collapsed": true,
    "ExecuteTime": {
     "end_time": "2023-07-25T12:30:08.395158200Z",
     "start_time": "2023-07-25T12:30:06.402960400Z"
    }
   },
   "outputs": [],
   "source": [
    "import torch\n",
    "import sys\n",
    "import os.path as osp\n",
    "import os\n",
    "import sys\n",
    "import numpy as np\n",
    "\n",
    "sys.path.append(\"/eos/home-g/gkrzmanc/mlpf_data\")\n",
    "from src.dataset.dataset import SimpleIterDataset\n",
    "from src.utils.utils import to_filelist\n",
    "from torch.utils.data import DataLoader\n",
    "#import dgl  # CPU only version for now\n",
    "from tqdm import tqdm\n",
    "from torch_scatter import scatter_sum\n"
   ]
  },
  {
   "cell_type": "code",
   "execution_count": 2,
   "outputs": [],
   "source": [
    "# This block is the same as 1_dataset.ipynb\n",
    "\n",
    "dataset = \"/afs/cern.ch/work/m/mgarciam/public/mlpf_250723/pf_tree_1.root\"\n",
    "\n",
    "\n",
    "class Args:\n",
    "    def __init__(self):\n",
    "        self.data_train = [dataset]\n",
    "        self.data_val = [dataset]\n",
    "        #self.data_train = files_train\n",
    "        self.data_config = '/eos/home-g/gkrzmanc/mlpf_data/config_files/config_2_newlinks.yaml'\n",
    "        self.extra_selection = None\n",
    "        self.train_val_split = 0.8\n",
    "        self.data_fraction = 1\n",
    "        self.file_fraction = 1\n",
    "        self.fetch_by_files = False\n",
    "        self.fetch_step = 0.01\n",
    "        self.steps_per_epoch = None\n",
    "        self.in_memory = False\n",
    "        self.local_rank = None\n",
    "        self.copy_inputs = False\n",
    "        self.no_remake_weights = False\n",
    "        self.batch_size = 10\n",
    "        self.num_workers = 0\n",
    "        self.demo = False\n",
    "        self.laplace = False\n",
    "        self.diffs = False\n",
    "        self.class_edges = False\n",
    "\n",
    "\n",
    "args = Args()\n",
    "train_range = (0, args.train_val_split)\n",
    "train_file_dict, train_files = to_filelist(args, 'train')\n",
    "train_data = SimpleIterDataset(train_file_dict, args.data_config, for_training=True,\n",
    "                               extra_selection=args.extra_selection,\n",
    "                               remake_weights=True,\n",
    "                               load_range_and_fraction=(train_range, args.data_fraction),\n",
    "                               file_fraction=args.file_fraction,\n",
    "                               fetch_by_files=args.fetch_by_files,\n",
    "                               fetch_step=args.fetch_step,\n",
    "                               infinity_mode=False,\n",
    "                               in_memory=args.in_memory,\n",
    "                               async_load=False,\n",
    "                               name='train')"
   ],
   "metadata": {
    "collapsed": false,
    "ExecuteTime": {
     "end_time": "2023-07-25T12:30:10.361202100Z",
     "start_time": "2023-07-25T12:30:10.334192700Z"
    }
   }
  },
  {
   "cell_type": "code",
   "execution_count": 3,
   "outputs": [
    {
     "name": "stdout",
     "output_type": "stream",
     "text": [
      "=== Restarting DataIter train, seed=None ===\n",
      "=== Restarting DataIter train, seed=None ===\n"
     ]
    },
    {
     "data": {
      "text/plain": "tensor([[-1.5849e-01, -9.3662e-01, -3.1246e-01,  5.6581e+00,  5.5795e+00,\n          9.3956e-01,  2.1120e+03]])"
     },
     "execution_count": 3,
     "metadata": {},
     "output_type": "execute_result"
    }
   ],
   "source": [
    "iterator = iter(train_data)\n",
    "g, gt = next(iterator)\n",
    "g\n",
    "g.ndata['particle_number'].unique()\n",
    "gt\n",
    "from src.dataset.functions_graph import graph_batch_func\n",
    "\n",
    "train_loader = DataLoader(train_data, batch_size=1, drop_last=True, pin_memory=True,\n",
    "                          num_workers=min(args.num_workers, int(len(train_files) * args.file_fraction)),\n",
    "                          collate_fn=graph_batch_func,\n",
    "                          persistent_workers=args.num_workers > 0 and args.steps_per_epoch is not None)\n",
    "iterator = iter(train_loader)\n",
    "g, y = next(iterator)\n",
    "y.shape\n",
    "y"
   ],
   "metadata": {
    "collapsed": false,
    "ExecuteTime": {
     "end_time": "2023-07-25T12:30:13.391128Z",
     "start_time": "2023-07-25T12:30:11.201166700Z"
    }
   }
  },
  {
   "cell_type": "code",
   "execution_count": 42,
   "outputs": [
    {
     "data": {
      "text/plain": "Graph(num_nodes=159, num_edges=1113,\n      ndata_schemes={'h': Scheme(shape=(9,), dtype=torch.float32), 'pos_hits': Scheme(shape=(3,), dtype=torch.float32), 'pos_hits_norm': Scheme(shape=(3,), dtype=torch.float32), 'hit_type': Scheme(shape=(4,), dtype=torch.int64), 'p_hits': Scheme(shape=(1,), dtype=torch.float32), 'e_hits': Scheme(shape=(1,), dtype=torch.float32), 'particle_number': Scheme(shape=(), dtype=torch.float32), 'particle_number_nomap': Scheme(shape=(), dtype=torch.float32)}\n      edata_schemes={})"
     },
     "execution_count": 42,
     "metadata": {},
     "output_type": "execute_result"
    }
   ],
   "source": [
    "g"
   ],
   "metadata": {
    "collapsed": false,
    "ExecuteTime": {
     "end_time": "2023-07-25T12:29:38.921996700Z",
     "start_time": "2023-07-25T12:29:38.863861400Z"
    }
   }
  },
  {
   "cell_type": "code",
   "execution_count": 30,
   "outputs": [],
   "source": [],
   "metadata": {
    "collapsed": false,
    "ExecuteTime": {
     "end_time": "2023-07-25T12:27:57.271710200Z",
     "start_time": "2023-07-25T12:27:57.243700300Z"
    }
   }
  },
  {
   "cell_type": "code",
   "execution_count": 4,
   "outputs": [],
   "source": [
    "from torch_scatter import scatter_sum\n",
    "def get_ratios(g, y, corr_w_mass=False, return_pid_dict=False):\n",
    "    part_idx = g.ndata[\"particle_number\"]\n",
    "    true_idx = np.arange(len(part_idx))\n",
    "    part_idx = part_idx[true_idx]\n",
    "    hit_types = g.ndata[\"hit_type\"][true_idx]\n",
    "    hit_idx = torch.where((hit_types[:, 2] == 1) | (hit_types[:, 3] == 1))[0]\n",
    "    track_idx = torch.where((hit_types[:, 0] == 1) | (hit_types[:, 1] == 1))[0]\n",
    "    hit_energies = g.ndata[\"e_hits\"].flatten()[true_idx]  #[hit_idx]\n",
    "    where_e_zero = hit_energies == 0\n",
    "    hit_momenta = g.ndata[\"p_hits\"].flatten()[true_idx]#[track_idx]\n",
    "    energy_from_showers = scatter_sum(hit_energies, part_idx.long(), dim=0)\n",
    "    y_energy = y[:, 3]\n",
    "    y_pid = y[:, -1].to(torch.long)\n",
    "    energy_from_showers = energy_from_showers[1:]\n",
    "    print(energy_from_showers.shape, y_energy.shape)\n",
    "    assert len(energy_from_showers) > 0\n",
    "    if return_pid_dict:\n",
    "        pids = y_pid.unique().long()\n",
    "        pid_dict = {int(pid): (energy_from_showers[y_pid == pid] / y_energy[y_pid == pid]).tolist() for pid in pids}\n",
    "        pid_dict[\"ALL\"] = (energy_from_showers / y_energy).tolist()\n",
    "        return pid_dict\n",
    "    return (energy_from_showers / y_energy).tolist()\n"
   ],
   "metadata": {
    "collapsed": false,
    "ExecuteTime": {
     "end_time": "2023-07-25T12:30:13.739931100Z",
     "start_time": "2023-07-25T12:30:13.712935900Z"
    }
   }
  },
  {
   "cell_type": "code",
   "execution_count": 4,
   "outputs": [],
   "source": [],
   "metadata": {
    "collapsed": false,
    "ExecuteTime": {
     "end_time": "2023-07-25T12:30:14.519935100Z",
     "start_time": "2023-07-25T12:30:14.511928100Z"
    }
   }
  },
  {
   "cell_type": "code",
   "execution_count": 5,
   "outputs": [
    {
     "name": "stderr",
     "output_type": "stream",
     "text": [
      "  0%|▏                                                                                                                      | 1/500 [00:00<02:09,  3.84it/s]"
     ]
    },
    {
     "name": "stdout",
     "output_type": "stream",
     "text": [
      "torch.Size([4]) torch.Size([4])\n"
     ]
    },
    {
     "name": "stderr",
     "output_type": "stream",
     "text": [
      "  0%|▏                                                                                                                      | 1/500 [00:00<04:12,  1.97it/s]"
     ]
    },
    {
     "name": "stdout",
     "output_type": "stream",
     "text": [
      "torch.Size([4]) torch.Size([3])\n"
     ]
    },
    {
     "name": "stderr",
     "output_type": "stream",
     "text": [
      "\n"
     ]
    },
    {
     "ename": "IndexError",
     "evalue": "The shape of the mask [3] at index 0 does not match the shape of the indexed tensor [4] at index 0",
     "output_type": "error",
     "traceback": [
      "\u001B[0;31m---------------------------------------------------------------------------\u001B[0m",
      "\u001B[0;31mIndexError\u001B[0m                                Traceback (most recent call last)",
      "Cell \u001B[0;32mIn[5], line 12\u001B[0m\n\u001B[1;32m     10\u001B[0m \u001B[38;5;28;01mfor\u001B[39;00m i \u001B[38;5;129;01min\u001B[39;00m tqdm(\u001B[38;5;28mrange\u001B[39m(\u001B[38;5;241m500\u001B[39m)):\n\u001B[1;32m     11\u001B[0m     g, y \u001B[38;5;241m=\u001B[39m \u001B[38;5;28mnext\u001B[39m(iterator)\n\u001B[0;32m---> 12\u001B[0m     ratios \u001B[38;5;241m=\u001B[39m \u001B[43mget_ratios\u001B[49m\u001B[43m(\u001B[49m\u001B[43mg\u001B[49m\u001B[43m,\u001B[49m\u001B[43m \u001B[49m\u001B[43my\u001B[49m\u001B[43m,\u001B[49m\u001B[43m \u001B[49m\u001B[43mcorr_w_mass\u001B[49m\u001B[38;5;241;43m=\u001B[39;49m\u001B[38;5;28;43;01mTrue\u001B[39;49;00m\u001B[43m,\u001B[49m\u001B[43m \u001B[49m\u001B[43mreturn_pid_dict\u001B[49m\u001B[38;5;241;43m=\u001B[39;49m\u001B[38;5;28;43;01mTrue\u001B[39;49;00m\u001B[43m)\u001B[49m\n\u001B[1;32m     13\u001B[0m     all_ratios \u001B[38;5;241m=\u001B[39m upd_dict(all_ratios, ratios)\n\u001B[1;32m     14\u001B[0m     \u001B[38;5;66;03m#TODOs tmrw: check particle number dist., how many are we throwing away\u001B[39;00m\n",
      "Cell \u001B[0;32mIn[4], line 20\u001B[0m, in \u001B[0;36mget_ratios\u001B[0;34m(g, y, corr_w_mass, return_pid_dict)\u001B[0m\n\u001B[1;32m     18\u001B[0m \u001B[38;5;28;01mif\u001B[39;00m return_pid_dict:\n\u001B[1;32m     19\u001B[0m     pids \u001B[38;5;241m=\u001B[39m y_pid\u001B[38;5;241m.\u001B[39munique()\u001B[38;5;241m.\u001B[39mlong()\n\u001B[0;32m---> 20\u001B[0m     pid_dict \u001B[38;5;241m=\u001B[39m {\u001B[38;5;28mint\u001B[39m(pid): (energy_from_showers[y_pid \u001B[38;5;241m==\u001B[39m pid] \u001B[38;5;241m/\u001B[39m y_energy[y_pid \u001B[38;5;241m==\u001B[39m pid])\u001B[38;5;241m.\u001B[39mtolist() \u001B[38;5;28;01mfor\u001B[39;00m pid \u001B[38;5;129;01min\u001B[39;00m pids}\n\u001B[1;32m     21\u001B[0m     pid_dict[\u001B[38;5;124m\"\u001B[39m\u001B[38;5;124mALL\u001B[39m\u001B[38;5;124m\"\u001B[39m] \u001B[38;5;241m=\u001B[39m (energy_from_showers \u001B[38;5;241m/\u001B[39m y_energy)\u001B[38;5;241m.\u001B[39mtolist()\n\u001B[1;32m     22\u001B[0m     \u001B[38;5;28;01mreturn\u001B[39;00m pid_dict\n",
      "Cell \u001B[0;32mIn[4], line 20\u001B[0m, in \u001B[0;36m<dictcomp>\u001B[0;34m(.0)\u001B[0m\n\u001B[1;32m     18\u001B[0m \u001B[38;5;28;01mif\u001B[39;00m return_pid_dict:\n\u001B[1;32m     19\u001B[0m     pids \u001B[38;5;241m=\u001B[39m y_pid\u001B[38;5;241m.\u001B[39munique()\u001B[38;5;241m.\u001B[39mlong()\n\u001B[0;32m---> 20\u001B[0m     pid_dict \u001B[38;5;241m=\u001B[39m {\u001B[38;5;28mint\u001B[39m(pid): (\u001B[43menergy_from_showers\u001B[49m\u001B[43m[\u001B[49m\u001B[43my_pid\u001B[49m\u001B[43m \u001B[49m\u001B[38;5;241;43m==\u001B[39;49m\u001B[43m \u001B[49m\u001B[43mpid\u001B[49m\u001B[43m]\u001B[49m \u001B[38;5;241m/\u001B[39m y_energy[y_pid \u001B[38;5;241m==\u001B[39m pid])\u001B[38;5;241m.\u001B[39mtolist() \u001B[38;5;28;01mfor\u001B[39;00m pid \u001B[38;5;129;01min\u001B[39;00m pids}\n\u001B[1;32m     21\u001B[0m     pid_dict[\u001B[38;5;124m\"\u001B[39m\u001B[38;5;124mALL\u001B[39m\u001B[38;5;124m\"\u001B[39m] \u001B[38;5;241m=\u001B[39m (energy_from_showers \u001B[38;5;241m/\u001B[39m y_energy)\u001B[38;5;241m.\u001B[39mtolist()\n\u001B[1;32m     22\u001B[0m     \u001B[38;5;28;01mreturn\u001B[39;00m pid_dict\n",
      "\u001B[0;31mIndexError\u001B[0m: The shape of the mask [3] at index 0 does not match the shape of the indexed tensor [4] at index 0"
     ]
    }
   ],
   "source": [
    "all_ratios = {}\n",
    "\n",
    "def upd_dict(d, small_dict):\n",
    "    for k in small_dict:\n",
    "        if k not in d:\n",
    "            d[k] = []\n",
    "        d[k] += small_dict[k]\n",
    "    return d\n",
    "\n",
    "for i in tqdm(range(500)):\n",
    "    g, y = next(iterator)\n",
    "    ratios = get_ratios(g, y, corr_w_mass=True, return_pid_dict=True)\n",
    "    all_ratios = upd_dict(all_ratios, ratios)\n",
    "    #TODOs tmrw: check particle number dist., how many are we throwing away"
   ],
   "metadata": {
    "collapsed": false,
    "ExecuteTime": {
     "end_time": "2023-07-25T12:30:15.251572500Z",
     "start_time": "2023-07-25T12:30:14.659821800Z"
    }
   }
  },
  {
   "cell_type": "code",
   "execution_count": null,
   "outputs": [],
   "source": [
    "import matplotlib.pyplot as plt\n",
    "all_ratios = {str(k): v for k, v in all_ratios.items()}\n",
    "keys = sorted(list(all_ratios.keys()))\n",
    "fig, ax = plt.subplots(len(keys), figsize=(5, 35))\n",
    "\n",
    "for i in range(len(keys)):\n",
    "    ax[i].hist(all_ratios[keys[i]], bins=400)\n",
    "    ax[i].set_xlim(-0.5, 2)\n",
    "    ax[i].set_ylabel(\"count\")\n",
    "    ax[i].set_xlabel(r\"$E_{sum}/E_{true}$\")\n",
    "    ax[i].set_title(f\"{keys[i]}\")\n",
    "\n",
    "fig.tight_layout()\n",
    "\n",
    "fig.savefig(\"/eos/home-g/gkrzmanc/PF_reports/initial_histograms/new_dataset/energy_hist_corr1.pdf\")\n",
    "fig.show()"
   ],
   "metadata": {
    "collapsed": false
   }
  },
  {
   "cell_type": "code",
   "execution_count": null,
   "outputs": [],
   "source": [
    "import pickle\n",
    "pickle.dump(all_ratios, open(\"/eos/home-g/gkrzmanc/PF_reports/initial_histograms/corr_ds/PID_filtered_energy_sum_vs_true.pkl\", \"wb\"))"
   ],
   "metadata": {
    "collapsed": false
   }
  }
 ],
 "metadata": {
  "kernelspec": {
   "display_name": "Python 3",
   "language": "python",
   "name": "python3"
  },
  "language_info": {
   "codemirror_mode": {
    "name": "ipython",
    "version": 2
   },
   "file_extension": ".py",
   "mimetype": "text/x-python",
   "name": "python",
   "nbconvert_exporter": "python",
   "pygments_lexer": "ipython2",
   "version": "2.7.6"
  }
 },
 "nbformat": 4,
 "nbformat_minor": 0
}
